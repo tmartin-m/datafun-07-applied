{
 "cells": [
  {
   "cell_type": "markdown",
   "id": "07cf302b",
   "metadata": {},
   "source": [
    "# Introduction to Machine Learning - Linear Regression\n",
    "\n",
    "**Author:** Taylor Martin\n",
    "\n",
    "**Repository:** https://github.com/tmartin-m/datafun-07-applied\n"
   ]
  },
  {
   "cell_type": "code",
   "execution_count": 1,
   "id": "1fd4b48d",
   "metadata": {},
   "outputs": [],
   "source": [
    "import pandas as pd\n",
    "import seaborn as sns \n",
    "import matplotlib\n",
    "import numpy\n",
    "import scipy"
   ]
  }
 ],
 "metadata": {
  "kernelspec": {
   "display_name": ".venv (3.13.7)",
   "language": "python",
   "name": "python3"
  },
  "language_info": {
   "codemirror_mode": {
    "name": "ipython",
    "version": 3
   },
   "file_extension": ".py",
   "mimetype": "text/x-python",
   "name": "python",
   "nbconvert_exporter": "python",
   "pygments_lexer": "ipython3",
   "version": "3.13.7"
  }
 },
 "nbformat": 4,
 "nbformat_minor": 5
}
